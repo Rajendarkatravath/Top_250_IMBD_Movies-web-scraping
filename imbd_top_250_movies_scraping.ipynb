{
  "nbformat": 4,
  "nbformat_minor": 0,
  "metadata": {
    "colab": {
      "provenance": [],
      "authorship_tag": "ABX9TyN5QAJCgL013uFo1OzcNV+v",
      "include_colab_link": true
    },
    "kernelspec": {
      "name": "python3",
      "display_name": "Python 3"
    },
    "language_info": {
      "name": "python"
    }
  },
  "cells": [
    {
      "cell_type": "markdown",
      "metadata": {
        "id": "view-in-github",
        "colab_type": "text"
      },
      "source": [
        "<a href=\"https://colab.research.google.com/github/Rajendarkatravath/Top_250_IMBD_Movies-web-scraping/blob/main/imbd_top_250_movies_scraping.ipynb\" target=\"_parent\"><img src=\"https://colab.research.google.com/assets/colab-badge.svg\" alt=\"Open In Colab\"/></a>"
      ]
    },
    {
      "cell_type": "markdown",
      "source": [
        "##project Name:\"Top_250_IMBD_movies web scraping \"\n"
      ],
      "metadata": {
        "id": "8KRUMs0prMxE"
      }
    },
    {
      "cell_type": "code",
      "source": [
        "# Installing the BeautifulSoup library\n",
        "!pip install Beautifulsoup4"
      ],
      "metadata": {
        "colab": {
          "base_uri": "https://localhost:8080/"
        },
        "id": "qqLUf6RRreJW",
        "outputId": "efde1dc0-8661-4054-ed28-98559beba30f"
      },
      "execution_count": 22,
      "outputs": [
        {
          "output_type": "stream",
          "name": "stdout",
          "text": [
            "Requirement already satisfied: Beautifulsoup4 in /usr/local/lib/python3.10/dist-packages (4.11.2)\n",
            "Requirement already satisfied: soupsieve>1.2 in /usr/local/lib/python3.10/dist-packages (from Beautifulsoup4) (2.5)\n"
          ]
        }
      ]
    },
    {
      "cell_type": "code",
      "source": [
        "from bs4 import BeautifulSoup\n",
        "\n",
        "# Path to your local HTML file\n",
        "html_file_path = \"/content/IMDb Top 250 Movies.html\"\n",
        "\n",
        "# Read the content of the local HTML file\n",
        "with open(html_file_path, 'r', encoding='utf-8') as file:\n",
        "    html_content = file.read()\n",
        "\n",
        "# Create a BeautifulSoup object\n",
        "soup = BeautifulSoup(html_content, 'html.parser')\n",
        "\n",
        "# Use CSS selectors to find the container for each movie\n",
        "movie_containers = soup.select(\"div.sc-43986a27-0.gUQEVh.cli-children\")\n",
        "\n",
        "Movies_names = []\n",
        "Movie_released_year = []\n",
        "Movies_durations = []\n",
        "Movies_ratings = []\n",
        "Movies_reviews = []\n",
        "\n",
        "# Iterate over the list of matching containers\n",
        "for container in movie_containers:\n",
        "    # Find elements within each container\n",
        "    name_element = container.find(\"h3\")\n",
        "    year_element = container.select_one(\"span:nth-of-type(1)\")\n",
        "    duration_element = container.select_one(\"span:nth-of-type(2)\")\n",
        "    rating_element = container.select_one(\"span:nth-of-type(3)\")\n",
        "    review_element = container.select_one(\".sc-43986a27-1.fVmjht span\")\n",
        "\n",
        "    # Append data to respective lists\n",
        "    Movies_names.append(name_element.text if name_element else None)\n",
        "    Movie_released_year.append(year_element.text if year_element else None)\n",
        "    Movies_durations.append(duration_element.text if duration_element else None)\n",
        "    Movies_ratings.append(rating_element.text if rating_element else None)\n",
        "    Movies_reviews.append(review_element.text if review_element else None)\n",
        "\n",
        "\n",
        "import pandas as pd\n",
        "data = {\n",
        "    \"Movies_names\": Movies_names,\n",
        "    \"Movies_released_year\": Movie_released_year,\n",
        "    \"Movies_durations\": Movies_durations,\n",
        "    \"Movies_ratings\": Movies_ratings,\n",
        "    \"Movies_reviews\": Movies_reviews\n",
        "}\n",
        "\n",
        "df=pd.DataFrame(data)\n",
        "\n",
        "print(df.to_csv(\"Top_250imbd_movies.csv\"))"
      ],
      "metadata": {
        "colab": {
          "base_uri": "https://localhost:8080/"
        },
        "id": "YU5LzVG3o7a3",
        "outputId": "f5237896-1838-4dd8-a839-08f11dd68589"
      },
      "execution_count": 21,
      "outputs": [
        {
          "output_type": "stream",
          "name": "stdout",
          "text": [
            "None\n"
          ]
        }
      ]
    }
  ]
}